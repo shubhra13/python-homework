{
 "cells": [
  {
   "cell_type": "markdown",
   "metadata": {},
   "source": [
    "# PYRAMEN"
   ]
  },
  {
   "cell_type": "code",
   "execution_count": null,
   "metadata": {},
   "outputs": [],
   "source": [
    "# Import libraries\n",
    "import csv\n",
    "from pathlib import Path"
   ]
  },
  {
   "cell_type": "code",
   "execution_count": null,
   "metadata": {},
   "outputs": [],
   "source": [
    "# Set file paths for menu_data.csv and sales_data.csv\n",
    "menu_filepath = Path('Resources/menu_data.csv')\n",
    "sales_filepath = Path('Resources/sales_data.csv')"
   ]
  },
  {
   "cell_type": "code",
   "execution_count": null,
   "metadata": {},
   "outputs": [],
   "source": [
    "# Initialize list objects to hold our menu and sales data\n",
    "menu = []\n",
    "sales = []\n",
    "\n",
    "# Initialize dict object to hold our key-value pairs of items and metrics\n",
    "report = {}\n",
    "\n",
    "# Initialize a row counter variable\n",
    "row_count = 0\n",
    "\n",
    "# Read in the menu data into the menu list\n",
    "with open(menu_filepath, \"r\") as menufile:\n",
    "    csvreader = csv.reader(menufile, delimiter=',')\n",
    "    header = next(csvreader)\n",
    "    for _ in csvreader:\n",
    "        menu.append(_)\n",
    "\n",
    "\n",
    "# Read in the sales data into the sales list        \n",
    "with open(sales_filepath, \"r\") as salesfile:\n",
    "    csvreader = csv.reader(salesfile,delimiter=',')\n",
    "    header = next(csvreader)\n",
    "    for _ in csvreader:\n",
    "        sales.append(_)\n",
    "\n",
    "\n",
    "# Loop over every row in the sales list object\n",
    "for _ in sales:\n",
    "    \n",
    "    # Line_Item_ID,Date,Credit_Card_Number,Quantity,Menu_Item\n",
    "    # Initialize sales data variables\n",
    "    quantity = int(_[3])\n",
    "    sales_item = _[4].strip()\n",
    "\n",
    "    # For every row in our sales data, loop over the menu records to determine a match   \n",
    "    for row in menu:\n",
    "        \n",
    "        # Initialize menu data variables\n",
    "        # item,category,description,price,cost\n",
    "        item = row[0].strip()\n",
    "        price = float(row [3])\n",
    "        cost = float(row [4])\n",
    "     \n",
    "        # Calculate profit of each item in the menu data        \n",
    "        profit = (price - cost)\n",
    "        \n",
    "        # If the item value not in the report, add it as a new entry with initialized metrics\n",
    "        if sales_item not in report:\n",
    "            report[sales_item]={\"01-count\": 0, \"02-revenue\": 0,\"03-cogs\": 0,\"04-profit\": 0}\n",
    "           \n",
    "        # Naming convention allows the keys to be ordered in logical fashion, count, revenue, cost, profit\n",
    "        if item == sales_item: \n",
    "            \n",
    "            # Cumulatively add the values to the corresponding metrics\n",
    "            report[sales_item][\"01-count\"] += quantity\n",
    "            report[sales_item][\"02-revenue\"] += price * quantity\n",
    "            report[sales_item][\"03-cogs\"] += cost * quantity\n",
    "            report[sales_item][\"04-profit\"] += profit * quantity   \n",
    "\n",
    "        else:\n",
    "            print(f'{sales_item} does not equal {item}! NO MATCH!')\n",
    "        \n",
    "    #Increment the row counter by 1\n",
    "    row_count += 1\n",
    "\n",
    "# Print total number of records in sales data\n",
    "print(f'total number of records in sales data {row_count}')\n",
    "\n",
    "# Write out report to a text file (won't appear on the command line output)\n",
    "outputfilepath = Path(\"outputfile.txt\")\n",
    "with open(outputfilepath , \"w\") as outputfile:\n",
    "    #outputfile.write(str(report))\n",
    "    for k,v in report.items():\n",
    "        outputfile.write(f'{str(k)} {str(v)}  \\n')"
   ]
  },
  {
   "cell_type": "code",
   "execution_count": null,
   "metadata": {},
   "outputs": [],
   "source": []
  }
 ],
 "metadata": {
  "kernelspec": {
   "display_name": "Python 3",
   "language": "python",
   "name": "python3"
  },
  "language_info": {
   "codemirror_mode": {
    "name": "ipython",
    "version": 3
   },
   "file_extension": ".py",
   "mimetype": "text/x-python",
   "name": "python",
   "nbconvert_exporter": "python",
   "pygments_lexer": "ipython3",
   "version": "3.7.6"
  }
 },
 "nbformat": 4,
 "nbformat_minor": 4
}
