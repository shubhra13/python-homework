{
 "cells": [
  {
   "cell_type": "markdown",
   "metadata": {},
   "source": [
    "# PYBANK"
   ]
  },
  {
   "cell_type": "code",
   "execution_count": 41,
   "metadata": {},
   "outputs": [],
   "source": [
    "# Import the pathlib and csv library\n",
    "from pathlib import Path\n",
    "import csv\n",
    "from datetime import datetime"
   ]
  },
  {
   "cell_type": "code",
   "execution_count": 42,
   "metadata": {},
   "outputs": [],
   "source": [
    "#set input and output file path\n",
    "csvPath = Path(\"Resources/budget_data.csv\")\n",
    "textFilePath = Path(\"financial_analysis_output.txt\") #open the outputfile"
   ]
  },
  {
   "cell_type": "code",
   "execution_count": 43,
   "metadata": {},
   "outputs": [
    {
     "name": "stdout",
     "output_type": "stream",
     "text": [
      "Financial Analysis\n",
      "----------------------------\n",
      "Total Months: 86\n",
      "Total: $38382578.0\n",
      "Average Change: $-2315.12\n",
      "Greatest Increase in Profits: Feb-2012 ($1926159.0)\n",
      "Greatest Decrease in Profits: Sep-2013 ($-2196167.0)\n"
     ]
    }
   ],
   "source": [
    "#initialize variables\n",
    "minimum = 0\n",
    "maximum = 0\n",
    "min_date= \"\"\n",
    "max_date = \"\"\n",
    "count_months = 0\n",
    "total_pnl = 0\n",
    "prev_pnl = 0\n",
    "total_pnl_change =0 \n",
    "\n",
    "#catch IO Errors\n",
    "try:\n",
    "    # Opening the input file\n",
    "    with open(csvPath, \"r\") as csvFile:\n",
    "        # Pass in the csv file to the csv.reader() function\n",
    "        # (with ',' as the delmiter/separator)\n",
    "        csvReader = csv.reader(csvFile, delimiter=',')\n",
    "\n",
    "        #skip the header\n",
    "        header = next(csvReader) \n",
    "        \n",
    "        for record in csvReader:\n",
    "            \n",
    "            # typecast the pnl to be a float just for this work\n",
    "            pnl = float(record[1]) \n",
    "            count_months+=1\n",
    "            total_pnl += pnl\n",
    "            if prev_pnl != 0: #first record will have no change so pass this logic     \n",
    "                pnl_change = pnl-prev_pnl\n",
    "                total_pnl_change += pnl_change                \n",
    "                date = record[0]\n",
    "                pnl_change = pnl-prev_pnl\n",
    "                if minimum == 0:\n",
    "                    minimum = pnl_change\n",
    "                    min_date = date\n",
    "                    maximum = pnl_change\n",
    "                elif pnl_change < minimum:\n",
    "                    minimum = pnl_change\n",
    "                    min_date = date  \n",
    "                elif pnl_change > maximum:\n",
    "                    maximum = pnl_change\n",
    "                    max_date = date\n",
    "            prev_pnl = pnl        \n",
    "    avg = round(total_pnl_change/(count_months-1), 2) # calculate the average pnl change\n",
    "    try:\n",
    "        with open(textFilePath, \"w\") as txtFile: # Open the output_path as a file object in \"write\" mode ('w')\n",
    "            txtFile.write(\"Financial Analysis\\n\")\n",
    "            txtFile.write(\"----------------------------\\n\") \n",
    "            txtFile.write(f'Total Months: {count_months}\\n')\n",
    "            txtFile.write(f'Total: ${total_pnl}\\n')\n",
    "            txtFile.write(f'Average Change: $ {avg}\\n')\n",
    "            txtFile.write(f'Greatest Increase in Profits: {max_date} (${maximum})\\n')\n",
    "            txtFile.write(f'Greatest Decrease in Profits: {min_date} (${minimum})\\n')\n",
    "    except EnvironmentError: \n",
    "        print(f'OOPS! Something went wrong unable to write to the file {textFilePath.name}')     \n",
    "    print(\"Financial Analysis\")\n",
    "    print(\"----------------------------\")\n",
    "    print(f'Total Months: {count_months}')\n",
    "    print(f'Total: ${total_pnl}')\n",
    "    print(f'Average Change: ${avg}')\n",
    "    print(f'Greatest Increase in Profits: {max_date} (${maximum})' )\n",
    "    print(f'Greatest Decrease in Profits: {min_date} (${minimum})')\n",
    "\n",
    "except EnvironmentError:\n",
    "    print(f\"Unable to read from the file: {csvFile.name}\")"
   ]
  }
 ],
 "metadata": {
  "kernelspec": {
   "display_name": "Python 3",
   "language": "python",
   "name": "python3"
  },
  "language_info": {
   "codemirror_mode": {
    "name": "ipython",
    "version": 3
   },
   "file_extension": ".py",
   "mimetype": "text/x-python",
   "name": "python",
   "nbconvert_exporter": "python",
   "pygments_lexer": "ipython3",
   "version": "3.7.6"
  }
 },
 "nbformat": 4,
 "nbformat_minor": 4
}
